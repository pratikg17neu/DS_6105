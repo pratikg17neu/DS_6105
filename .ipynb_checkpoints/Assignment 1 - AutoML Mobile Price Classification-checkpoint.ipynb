{
 "cells": [
  {
   "cell_type": "markdown",
   "id": "8b120092",
   "metadata": {},
   "source": [
    "## Context for the problem"
   ]
  },
  {
   "cell_type": "markdown",
   "id": "486cdc32",
   "metadata": {},
   "source": [
    "Bob has started his own mobile company. He wants to give tough fight to big companies like Apple,Samsung etc.\n",
    "He does not know how to estimate price of mobiles his company creates. In this competitive mobile phone market you cannot simply assume things. To solve this problem he collects sales data of mobile phones of various companies.\n",
    "Bob wants to find out some relation between features of a mobile phone(eg:- RAM,Internal Memory etc) and its selling price. But he is not so good at Machine Learning. So he needs your help to solve this problem.\n",
    "In this problem you do not have to predict actual price but a price range indicating how high the price is"
   ]
  },
  {
   "cell_type": "markdown",
   "id": "273fc772",
   "metadata": {},
   "source": [
    "## Import Libraries"
   ]
  },
  {
   "cell_type": "code",
   "execution_count": 12,
   "id": "54714e23",
   "metadata": {},
   "outputs": [],
   "source": [
    "# Import libraries\n",
    "# Use pip install or conda install if missing a library\n",
    "import h2o\n",
    "from h2o.automl import H2OAutoML\n",
    "import random, os, sys\n",
    "from datetime import datetime\n",
    "import pandas as pd\n",
    "import logging\n",
    "import csv\n",
    "import optparse\n",
    "import time\n",
    "import json\n",
    "from distutils.util import strtobool\n",
    "import psutil\n",
    "import numpy as np\n",
    "import matplotlib.pyplot as plt"
   ]
  },
  {
   "cell_type": "markdown",
   "id": "85334ef5",
   "metadata": {},
   "source": [
    "## Start AutoML Server"
   ]
  },
  {
   "cell_type": "code",
   "execution_count": 13,
   "id": "93fd3a38",
   "metadata": {},
   "outputs": [],
   "source": [
    "# Set a minimum memory size and a run time in seconds\n",
    "min_mem_size=6 \n",
    "run_time=222"
   ]
  },
  {
   "cell_type": "code",
   "execution_count": 14,
   "id": "73547965",
   "metadata": {},
   "outputs": [
    {
     "name": "stdout",
     "output_type": "stream",
     "text": [
      "3\n"
     ]
    }
   ],
   "source": [
    "# Use 50% of availible resources\n",
    "pct_memory=0.5\n",
    "virtual_memory=psutil.virtual_memory()\n",
    "min_mem_size=int(round(int(pct_memory*virtual_memory.available)/1073741824,0))\n",
    "print(min_mem_size)"
   ]
  },
  {
   "cell_type": "code",
   "execution_count": 15,
   "id": "519cae76",
   "metadata": {},
   "outputs": [
    {
     "name": "stdout",
     "output_type": "stream",
     "text": [
      "Checking whether there is an H2O instance running at http://localhost:49554 ..... not found.\n",
      "Attempting to start a local H2O server...\n",
      "; OpenJDK 64-Bit Server VM Corretto-11.0.14.9.1 (build 11.0.14+9-LTS, mixed mode)\n",
      "  Starting server from C:\\Users\\pjgaw\\anaconda3\\Lib\\site-packages\\h2o\\backend\\bin\\h2o.jar\n",
      "  Ice root: C:\\Users\\pjgaw\\AppData\\Local\\Temp\\tmppmuc4kq5\n",
      "  JVM stdout: C:\\Users\\pjgaw\\AppData\\Local\\Temp\\tmppmuc4kq5\\h2o_pjgaw_started_from_python.out\n",
      "  JVM stderr: C:\\Users\\pjgaw\\AppData\\Local\\Temp\\tmppmuc4kq5\\h2o_pjgaw_started_from_python.err\n",
      "  Server is running at http://127.0.0.1:49554\n",
      "Connecting to H2O server at http://127.0.0.1:49554 ... successful.\n"
     ]
    },
    {
     "data": {
      "text/html": [
       "<div style=\"overflow:auto\"><table style=\"width:50%\"><tr><td>H2O_cluster_uptime:</td>\n",
       "<td>02 secs</td></tr>\n",
       "<tr><td>H2O_cluster_timezone:</td>\n",
       "<td>America/New_York</td></tr>\n",
       "<tr><td>H2O_data_parsing_timezone:</td>\n",
       "<td>UTC</td></tr>\n",
       "<tr><td>H2O_cluster_version:</td>\n",
       "<td>3.36.0.2</td></tr>\n",
       "<tr><td>H2O_cluster_version_age:</td>\n",
       "<td>7 days, 9 hours and 28 minutes </td></tr>\n",
       "<tr><td>H2O_cluster_name:</td>\n",
       "<td>H2O_from_python_pjgaw_gzq7kc</td></tr>\n",
       "<tr><td>H2O_cluster_total_nodes:</td>\n",
       "<td>1</td></tr>\n",
       "<tr><td>H2O_cluster_free_memory:</td>\n",
       "<td>3.934 Gb</td></tr>\n",
       "<tr><td>H2O_cluster_total_cores:</td>\n",
       "<td>8</td></tr>\n",
       "<tr><td>H2O_cluster_allowed_cores:</td>\n",
       "<td>8</td></tr>\n",
       "<tr><td>H2O_cluster_status:</td>\n",
       "<td>locked, healthy</td></tr>\n",
       "<tr><td>H2O_connection_url:</td>\n",
       "<td>http://127.0.0.1:49554</td></tr>\n",
       "<tr><td>H2O_connection_proxy:</td>\n",
       "<td>{\"http\": null, \"https\": null}</td></tr>\n",
       "<tr><td>H2O_internal_security:</td>\n",
       "<td>False</td></tr>\n",
       "<tr><td>H2O_API_Extensions:</td>\n",
       "<td>Amazon S3, Algos, Infogram, AutoML, Core V3, TargetEncoder, Core V4</td></tr>\n",
       "<tr><td>Python_version:</td>\n",
       "<td>3.9.7 final</td></tr></table></div>"
      ],
      "text/plain": [
       "--------------------------  -------------------------------------------------------------------\n",
       "H2O_cluster_uptime:         02 secs\n",
       "H2O_cluster_timezone:       America/New_York\n",
       "H2O_data_parsing_timezone:  UTC\n",
       "H2O_cluster_version:        3.36.0.2\n",
       "H2O_cluster_version_age:    7 days, 9 hours and 28 minutes\n",
       "H2O_cluster_name:           H2O_from_python_pjgaw_gzq7kc\n",
       "H2O_cluster_total_nodes:    1\n",
       "H2O_cluster_free_memory:    3.934 Gb\n",
       "H2O_cluster_total_cores:    8\n",
       "H2O_cluster_allowed_cores:  8\n",
       "H2O_cluster_status:         locked, healthy\n",
       "H2O_connection_url:         http://127.0.0.1:49554\n",
       "H2O_connection_proxy:       {\"http\": null, \"https\": null}\n",
       "H2O_internal_security:      False\n",
       "H2O_API_Extensions:         Amazon S3, Algos, Infogram, AutoML, Core V3, TargetEncoder, Core V4\n",
       "Python_version:             3.9.7 final\n",
       "--------------------------  -------------------------------------------------------------------"
      ]
     },
     "metadata": {},
     "output_type": "display_data"
    }
   ],
   "source": [
    "# 65535 Highest port no\n",
    "# Start the H2O server on a random port\n",
    "port_no=random.randint(5555,55555)\n",
    "\n",
    "#  h2o.init(strict_version_check=False,min_mem_size_GB=min_mem_size,port=port_no) # start h2o\n",
    "try:\n",
    "  h2o.init(strict_version_check=False,min_mem_size_GB=min_mem_size,port=port_no) # start h2o\n",
    "except:\n",
    "  logging.critical('h2o.init')\n",
    "  h2o.download_all_logs(dirname=logs_path, filename=logfile)      \n",
    "  h2o.cluster().shutdown()\n",
    "  sys.exit(2)"
   ]
  },
  {
   "cell_type": "markdown",
   "id": "7e7f5510",
   "metadata": {},
   "source": [
    "## Importing the dataset from Github  repo"
   ]
  },
  {
   "cell_type": "code",
   "execution_count": 16,
   "id": "f2abb256",
   "metadata": {},
   "outputs": [
    {
     "name": "stdout",
     "output_type": "stream",
     "text": [
      "Parse progress: |████████████████████████████████████████████████████████████████| (done) 100%\n",
      "Parse progress: |████████████████████████████████████████████████████████████████| (done) 100%\n"
     ]
    }
   ],
   "source": [
    "# Download the train data csv file and load in the training dataset \n",
    "train_url = \"https://raw.githubusercontent.com/pratikg17neu/DS_6105__Assignment1/main/dataset/train.csv\"\n",
    "df_train = h2o.import_file(path = train_url)\n",
    "\n",
    "# Download the test data csv file and load in the training dataset\n",
    "test_url = \"https://raw.githubusercontent.com/pratikg17neu/DS_6105__Assignment1/main/dataset/test.csv\"\n",
    "df_test = h2o.import_file(path = test_url)"
   ]
  },
  {
   "cell_type": "markdown",
   "id": "b1e66b4f",
   "metadata": {},
   "source": [
    "### Displaying the head of train data"
   ]
  },
  {
   "cell_type": "code",
   "execution_count": 17,
   "id": "4d8e7268",
   "metadata": {},
   "outputs": [
    {
     "data": {
      "text/html": [
       "<table>\n",
       "<thead>\n",
       "<tr><th style=\"text-align: right;\">  battery_power</th><th style=\"text-align: right;\">  blue</th><th style=\"text-align: right;\">  clock_speed</th><th style=\"text-align: right;\">  dual_sim</th><th style=\"text-align: right;\">  fc</th><th style=\"text-align: right;\">  four_g</th><th style=\"text-align: right;\">  int_memory</th><th style=\"text-align: right;\">  m_dep</th><th style=\"text-align: right;\">  mobile_wt</th><th style=\"text-align: right;\">  n_cores</th><th style=\"text-align: right;\">  pc</th><th style=\"text-align: right;\">  px_height</th><th style=\"text-align: right;\">  px_width</th><th style=\"text-align: right;\">  ram</th><th style=\"text-align: right;\">  sc_h</th><th style=\"text-align: right;\">  sc_w</th><th style=\"text-align: right;\">  talk_time</th><th style=\"text-align: right;\">  three_g</th><th style=\"text-align: right;\">  touch_screen</th><th style=\"text-align: right;\">  wifi</th><th style=\"text-align: right;\">  price_range</th></tr>\n",
       "</thead>\n",
       "<tbody>\n",
       "<tr><td style=\"text-align: right;\">            842</td><td style=\"text-align: right;\">     0</td><td style=\"text-align: right;\">          2.2</td><td style=\"text-align: right;\">         0</td><td style=\"text-align: right;\">   1</td><td style=\"text-align: right;\">       0</td><td style=\"text-align: right;\">           7</td><td style=\"text-align: right;\">    0.6</td><td style=\"text-align: right;\">        188</td><td style=\"text-align: right;\">        2</td><td style=\"text-align: right;\">   2</td><td style=\"text-align: right;\">         20</td><td style=\"text-align: right;\">       756</td><td style=\"text-align: right;\"> 2549</td><td style=\"text-align: right;\">     9</td><td style=\"text-align: right;\">     7</td><td style=\"text-align: right;\">         19</td><td style=\"text-align: right;\">        0</td><td style=\"text-align: right;\">             0</td><td style=\"text-align: right;\">     1</td><td style=\"text-align: right;\">            1</td></tr>\n",
       "<tr><td style=\"text-align: right;\">           1021</td><td style=\"text-align: right;\">     1</td><td style=\"text-align: right;\">          0.5</td><td style=\"text-align: right;\">         1</td><td style=\"text-align: right;\">   0</td><td style=\"text-align: right;\">       1</td><td style=\"text-align: right;\">          53</td><td style=\"text-align: right;\">    0.7</td><td style=\"text-align: right;\">        136</td><td style=\"text-align: right;\">        3</td><td style=\"text-align: right;\">   6</td><td style=\"text-align: right;\">        905</td><td style=\"text-align: right;\">      1988</td><td style=\"text-align: right;\"> 2631</td><td style=\"text-align: right;\">    17</td><td style=\"text-align: right;\">     3</td><td style=\"text-align: right;\">          7</td><td style=\"text-align: right;\">        1</td><td style=\"text-align: right;\">             1</td><td style=\"text-align: right;\">     0</td><td style=\"text-align: right;\">            2</td></tr>\n",
       "<tr><td style=\"text-align: right;\">            563</td><td style=\"text-align: right;\">     1</td><td style=\"text-align: right;\">          0.5</td><td style=\"text-align: right;\">         1</td><td style=\"text-align: right;\">   2</td><td style=\"text-align: right;\">       1</td><td style=\"text-align: right;\">          41</td><td style=\"text-align: right;\">    0.9</td><td style=\"text-align: right;\">        145</td><td style=\"text-align: right;\">        5</td><td style=\"text-align: right;\">   6</td><td style=\"text-align: right;\">       1263</td><td style=\"text-align: right;\">      1716</td><td style=\"text-align: right;\"> 2603</td><td style=\"text-align: right;\">    11</td><td style=\"text-align: right;\">     2</td><td style=\"text-align: right;\">          9</td><td style=\"text-align: right;\">        1</td><td style=\"text-align: right;\">             1</td><td style=\"text-align: right;\">     0</td><td style=\"text-align: right;\">            2</td></tr>\n",
       "<tr><td style=\"text-align: right;\">            615</td><td style=\"text-align: right;\">     1</td><td style=\"text-align: right;\">          2.5</td><td style=\"text-align: right;\">         0</td><td style=\"text-align: right;\">   0</td><td style=\"text-align: right;\">       0</td><td style=\"text-align: right;\">          10</td><td style=\"text-align: right;\">    0.8</td><td style=\"text-align: right;\">        131</td><td style=\"text-align: right;\">        6</td><td style=\"text-align: right;\">   9</td><td style=\"text-align: right;\">       1216</td><td style=\"text-align: right;\">      1786</td><td style=\"text-align: right;\"> 2769</td><td style=\"text-align: right;\">    16</td><td style=\"text-align: right;\">     8</td><td style=\"text-align: right;\">         11</td><td style=\"text-align: right;\">        1</td><td style=\"text-align: right;\">             0</td><td style=\"text-align: right;\">     0</td><td style=\"text-align: right;\">            2</td></tr>\n",
       "<tr><td style=\"text-align: right;\">           1821</td><td style=\"text-align: right;\">     1</td><td style=\"text-align: right;\">          1.2</td><td style=\"text-align: right;\">         0</td><td style=\"text-align: right;\">  13</td><td style=\"text-align: right;\">       1</td><td style=\"text-align: right;\">          44</td><td style=\"text-align: right;\">    0.6</td><td style=\"text-align: right;\">        141</td><td style=\"text-align: right;\">        2</td><td style=\"text-align: right;\">  14</td><td style=\"text-align: right;\">       1208</td><td style=\"text-align: right;\">      1212</td><td style=\"text-align: right;\"> 1411</td><td style=\"text-align: right;\">     8</td><td style=\"text-align: right;\">     2</td><td style=\"text-align: right;\">         15</td><td style=\"text-align: right;\">        1</td><td style=\"text-align: right;\">             1</td><td style=\"text-align: right;\">     0</td><td style=\"text-align: right;\">            1</td></tr>\n",
       "<tr><td style=\"text-align: right;\">           1859</td><td style=\"text-align: right;\">     0</td><td style=\"text-align: right;\">          0.5</td><td style=\"text-align: right;\">         1</td><td style=\"text-align: right;\">   3</td><td style=\"text-align: right;\">       0</td><td style=\"text-align: right;\">          22</td><td style=\"text-align: right;\">    0.7</td><td style=\"text-align: right;\">        164</td><td style=\"text-align: right;\">        1</td><td style=\"text-align: right;\">   7</td><td style=\"text-align: right;\">       1004</td><td style=\"text-align: right;\">      1654</td><td style=\"text-align: right;\"> 1067</td><td style=\"text-align: right;\">    17</td><td style=\"text-align: right;\">     1</td><td style=\"text-align: right;\">         10</td><td style=\"text-align: right;\">        1</td><td style=\"text-align: right;\">             0</td><td style=\"text-align: right;\">     0</td><td style=\"text-align: right;\">            1</td></tr>\n",
       "<tr><td style=\"text-align: right;\">           1821</td><td style=\"text-align: right;\">     0</td><td style=\"text-align: right;\">          1.7</td><td style=\"text-align: right;\">         0</td><td style=\"text-align: right;\">   4</td><td style=\"text-align: right;\">       1</td><td style=\"text-align: right;\">          10</td><td style=\"text-align: right;\">    0.8</td><td style=\"text-align: right;\">        139</td><td style=\"text-align: right;\">        8</td><td style=\"text-align: right;\">  10</td><td style=\"text-align: right;\">        381</td><td style=\"text-align: right;\">      1018</td><td style=\"text-align: right;\"> 3220</td><td style=\"text-align: right;\">    13</td><td style=\"text-align: right;\">     8</td><td style=\"text-align: right;\">         18</td><td style=\"text-align: right;\">        1</td><td style=\"text-align: right;\">             0</td><td style=\"text-align: right;\">     1</td><td style=\"text-align: right;\">            3</td></tr>\n",
       "<tr><td style=\"text-align: right;\">           1954</td><td style=\"text-align: right;\">     0</td><td style=\"text-align: right;\">          0.5</td><td style=\"text-align: right;\">         1</td><td style=\"text-align: right;\">   0</td><td style=\"text-align: right;\">       0</td><td style=\"text-align: right;\">          24</td><td style=\"text-align: right;\">    0.8</td><td style=\"text-align: right;\">        187</td><td style=\"text-align: right;\">        4</td><td style=\"text-align: right;\">   0</td><td style=\"text-align: right;\">        512</td><td style=\"text-align: right;\">      1149</td><td style=\"text-align: right;\">  700</td><td style=\"text-align: right;\">    16</td><td style=\"text-align: right;\">     3</td><td style=\"text-align: right;\">          5</td><td style=\"text-align: right;\">        1</td><td style=\"text-align: right;\">             1</td><td style=\"text-align: right;\">     1</td><td style=\"text-align: right;\">            0</td></tr>\n",
       "<tr><td style=\"text-align: right;\">           1445</td><td style=\"text-align: right;\">     1</td><td style=\"text-align: right;\">          0.5</td><td style=\"text-align: right;\">         0</td><td style=\"text-align: right;\">   0</td><td style=\"text-align: right;\">       0</td><td style=\"text-align: right;\">          53</td><td style=\"text-align: right;\">    0.7</td><td style=\"text-align: right;\">        174</td><td style=\"text-align: right;\">        7</td><td style=\"text-align: right;\">  14</td><td style=\"text-align: right;\">        386</td><td style=\"text-align: right;\">       836</td><td style=\"text-align: right;\"> 1099</td><td style=\"text-align: right;\">    17</td><td style=\"text-align: right;\">     1</td><td style=\"text-align: right;\">         20</td><td style=\"text-align: right;\">        1</td><td style=\"text-align: right;\">             0</td><td style=\"text-align: right;\">     0</td><td style=\"text-align: right;\">            0</td></tr>\n",
       "<tr><td style=\"text-align: right;\">            509</td><td style=\"text-align: right;\">     1</td><td style=\"text-align: right;\">          0.6</td><td style=\"text-align: right;\">         1</td><td style=\"text-align: right;\">   2</td><td style=\"text-align: right;\">       1</td><td style=\"text-align: right;\">           9</td><td style=\"text-align: right;\">    0.1</td><td style=\"text-align: right;\">         93</td><td style=\"text-align: right;\">        5</td><td style=\"text-align: right;\">  15</td><td style=\"text-align: right;\">       1137</td><td style=\"text-align: right;\">      1224</td><td style=\"text-align: right;\">  513</td><td style=\"text-align: right;\">    19</td><td style=\"text-align: right;\">    10</td><td style=\"text-align: right;\">         12</td><td style=\"text-align: right;\">        1</td><td style=\"text-align: right;\">             0</td><td style=\"text-align: right;\">     0</td><td style=\"text-align: right;\">            0</td></tr>\n",
       "</tbody>\n",
       "</table>"
      ]
     },
     "metadata": {},
     "output_type": "display_data"
    },
    {
     "data": {
      "text/plain": []
     },
     "execution_count": 17,
     "metadata": {},
     "output_type": "execute_result"
    }
   ],
   "source": [
    "df_train.head()"
   ]
  },
  {
   "cell_type": "markdown",
   "id": "310338bf",
   "metadata": {},
   "source": [
    "### Displaying the head of test data"
   ]
  },
  {
   "cell_type": "code",
   "execution_count": 18,
   "id": "4d169e16",
   "metadata": {},
   "outputs": [
    {
     "data": {
      "text/html": [
       "<table>\n",
       "<thead>\n",
       "<tr><th style=\"text-align: right;\">  id</th><th style=\"text-align: right;\">  battery_power</th><th style=\"text-align: right;\">  blue</th><th style=\"text-align: right;\">  clock_speed</th><th style=\"text-align: right;\">  dual_sim</th><th style=\"text-align: right;\">  fc</th><th style=\"text-align: right;\">  four_g</th><th style=\"text-align: right;\">  int_memory</th><th style=\"text-align: right;\">  m_dep</th><th style=\"text-align: right;\">  mobile_wt</th><th style=\"text-align: right;\">  n_cores</th><th style=\"text-align: right;\">  pc</th><th style=\"text-align: right;\">  px_height</th><th style=\"text-align: right;\">  px_width</th><th style=\"text-align: right;\">  ram</th><th style=\"text-align: right;\">  sc_h</th><th style=\"text-align: right;\">  sc_w</th><th style=\"text-align: right;\">  talk_time</th><th style=\"text-align: right;\">  three_g</th><th style=\"text-align: right;\">  touch_screen</th><th style=\"text-align: right;\">  wifi</th></tr>\n",
       "</thead>\n",
       "<tbody>\n",
       "<tr><td style=\"text-align: right;\">   1</td><td style=\"text-align: right;\">           1043</td><td style=\"text-align: right;\">     1</td><td style=\"text-align: right;\">          1.8</td><td style=\"text-align: right;\">         1</td><td style=\"text-align: right;\">  14</td><td style=\"text-align: right;\">       0</td><td style=\"text-align: right;\">           5</td><td style=\"text-align: right;\">    0.1</td><td style=\"text-align: right;\">        193</td><td style=\"text-align: right;\">        3</td><td style=\"text-align: right;\">  16</td><td style=\"text-align: right;\">        226</td><td style=\"text-align: right;\">      1412</td><td style=\"text-align: right;\"> 3476</td><td style=\"text-align: right;\">    12</td><td style=\"text-align: right;\">     7</td><td style=\"text-align: right;\">          2</td><td style=\"text-align: right;\">        0</td><td style=\"text-align: right;\">             1</td><td style=\"text-align: right;\">     0</td></tr>\n",
       "<tr><td style=\"text-align: right;\">   2</td><td style=\"text-align: right;\">            841</td><td style=\"text-align: right;\">     1</td><td style=\"text-align: right;\">          0.5</td><td style=\"text-align: right;\">         1</td><td style=\"text-align: right;\">   4</td><td style=\"text-align: right;\">       1</td><td style=\"text-align: right;\">          61</td><td style=\"text-align: right;\">    0.8</td><td style=\"text-align: right;\">        191</td><td style=\"text-align: right;\">        5</td><td style=\"text-align: right;\">  12</td><td style=\"text-align: right;\">        746</td><td style=\"text-align: right;\">       857</td><td style=\"text-align: right;\"> 3895</td><td style=\"text-align: right;\">     6</td><td style=\"text-align: right;\">     0</td><td style=\"text-align: right;\">          7</td><td style=\"text-align: right;\">        1</td><td style=\"text-align: right;\">             0</td><td style=\"text-align: right;\">     0</td></tr>\n",
       "<tr><td style=\"text-align: right;\">   3</td><td style=\"text-align: right;\">           1807</td><td style=\"text-align: right;\">     1</td><td style=\"text-align: right;\">          2.8</td><td style=\"text-align: right;\">         0</td><td style=\"text-align: right;\">   1</td><td style=\"text-align: right;\">       0</td><td style=\"text-align: right;\">          27</td><td style=\"text-align: right;\">    0.9</td><td style=\"text-align: right;\">        186</td><td style=\"text-align: right;\">        3</td><td style=\"text-align: right;\">   4</td><td style=\"text-align: right;\">       1270</td><td style=\"text-align: right;\">      1366</td><td style=\"text-align: right;\"> 2396</td><td style=\"text-align: right;\">    17</td><td style=\"text-align: right;\">    10</td><td style=\"text-align: right;\">         10</td><td style=\"text-align: right;\">        0</td><td style=\"text-align: right;\">             1</td><td style=\"text-align: right;\">     1</td></tr>\n",
       "<tr><td style=\"text-align: right;\">   4</td><td style=\"text-align: right;\">           1546</td><td style=\"text-align: right;\">     0</td><td style=\"text-align: right;\">          0.5</td><td style=\"text-align: right;\">         1</td><td style=\"text-align: right;\">  18</td><td style=\"text-align: right;\">       1</td><td style=\"text-align: right;\">          25</td><td style=\"text-align: right;\">    0.5</td><td style=\"text-align: right;\">         96</td><td style=\"text-align: right;\">        8</td><td style=\"text-align: right;\">  20</td><td style=\"text-align: right;\">        295</td><td style=\"text-align: right;\">      1752</td><td style=\"text-align: right;\"> 3893</td><td style=\"text-align: right;\">    10</td><td style=\"text-align: right;\">     0</td><td style=\"text-align: right;\">          7</td><td style=\"text-align: right;\">        1</td><td style=\"text-align: right;\">             1</td><td style=\"text-align: right;\">     0</td></tr>\n",
       "<tr><td style=\"text-align: right;\">   5</td><td style=\"text-align: right;\">           1434</td><td style=\"text-align: right;\">     0</td><td style=\"text-align: right;\">          1.4</td><td style=\"text-align: right;\">         0</td><td style=\"text-align: right;\">  11</td><td style=\"text-align: right;\">       1</td><td style=\"text-align: right;\">          49</td><td style=\"text-align: right;\">    0.5</td><td style=\"text-align: right;\">        108</td><td style=\"text-align: right;\">        6</td><td style=\"text-align: right;\">  18</td><td style=\"text-align: right;\">        749</td><td style=\"text-align: right;\">       810</td><td style=\"text-align: right;\"> 1773</td><td style=\"text-align: right;\">    15</td><td style=\"text-align: right;\">     8</td><td style=\"text-align: right;\">          7</td><td style=\"text-align: right;\">        1</td><td style=\"text-align: right;\">             0</td><td style=\"text-align: right;\">     1</td></tr>\n",
       "<tr><td style=\"text-align: right;\">   6</td><td style=\"text-align: right;\">           1464</td><td style=\"text-align: right;\">     1</td><td style=\"text-align: right;\">          2.9</td><td style=\"text-align: right;\">         1</td><td style=\"text-align: right;\">   5</td><td style=\"text-align: right;\">       1</td><td style=\"text-align: right;\">          50</td><td style=\"text-align: right;\">    0.8</td><td style=\"text-align: right;\">        198</td><td style=\"text-align: right;\">        8</td><td style=\"text-align: right;\">   9</td><td style=\"text-align: right;\">        569</td><td style=\"text-align: right;\">       939</td><td style=\"text-align: right;\"> 3506</td><td style=\"text-align: right;\">    10</td><td style=\"text-align: right;\">     7</td><td style=\"text-align: right;\">          3</td><td style=\"text-align: right;\">        1</td><td style=\"text-align: right;\">             1</td><td style=\"text-align: right;\">     1</td></tr>\n",
       "<tr><td style=\"text-align: right;\">   7</td><td style=\"text-align: right;\">           1718</td><td style=\"text-align: right;\">     0</td><td style=\"text-align: right;\">          2.4</td><td style=\"text-align: right;\">         0</td><td style=\"text-align: right;\">   1</td><td style=\"text-align: right;\">       0</td><td style=\"text-align: right;\">          47</td><td style=\"text-align: right;\">    1  </td><td style=\"text-align: right;\">        156</td><td style=\"text-align: right;\">        2</td><td style=\"text-align: right;\">   3</td><td style=\"text-align: right;\">       1283</td><td style=\"text-align: right;\">      1374</td><td style=\"text-align: right;\"> 3873</td><td style=\"text-align: right;\">    14</td><td style=\"text-align: right;\">     2</td><td style=\"text-align: right;\">         10</td><td style=\"text-align: right;\">        0</td><td style=\"text-align: right;\">             0</td><td style=\"text-align: right;\">     0</td></tr>\n",
       "<tr><td style=\"text-align: right;\">   8</td><td style=\"text-align: right;\">            833</td><td style=\"text-align: right;\">     0</td><td style=\"text-align: right;\">          2.4</td><td style=\"text-align: right;\">         1</td><td style=\"text-align: right;\">   0</td><td style=\"text-align: right;\">       0</td><td style=\"text-align: right;\">          62</td><td style=\"text-align: right;\">    0.8</td><td style=\"text-align: right;\">        111</td><td style=\"text-align: right;\">        1</td><td style=\"text-align: right;\">   2</td><td style=\"text-align: right;\">       1312</td><td style=\"text-align: right;\">      1880</td><td style=\"text-align: right;\"> 1495</td><td style=\"text-align: right;\">     7</td><td style=\"text-align: right;\">     2</td><td style=\"text-align: right;\">         18</td><td style=\"text-align: right;\">        0</td><td style=\"text-align: right;\">             1</td><td style=\"text-align: right;\">     1</td></tr>\n",
       "<tr><td style=\"text-align: right;\">   9</td><td style=\"text-align: right;\">           1111</td><td style=\"text-align: right;\">     1</td><td style=\"text-align: right;\">          2.9</td><td style=\"text-align: right;\">         1</td><td style=\"text-align: right;\">   9</td><td style=\"text-align: right;\">       1</td><td style=\"text-align: right;\">          25</td><td style=\"text-align: right;\">    0.6</td><td style=\"text-align: right;\">        101</td><td style=\"text-align: right;\">        5</td><td style=\"text-align: right;\">  19</td><td style=\"text-align: right;\">        556</td><td style=\"text-align: right;\">       876</td><td style=\"text-align: right;\"> 3485</td><td style=\"text-align: right;\">    11</td><td style=\"text-align: right;\">     9</td><td style=\"text-align: right;\">         10</td><td style=\"text-align: right;\">        1</td><td style=\"text-align: right;\">             1</td><td style=\"text-align: right;\">     0</td></tr>\n",
       "<tr><td style=\"text-align: right;\">  10</td><td style=\"text-align: right;\">           1520</td><td style=\"text-align: right;\">     0</td><td style=\"text-align: right;\">          0.5</td><td style=\"text-align: right;\">         0</td><td style=\"text-align: right;\">   1</td><td style=\"text-align: right;\">       0</td><td style=\"text-align: right;\">          25</td><td style=\"text-align: right;\">    0.5</td><td style=\"text-align: right;\">        171</td><td style=\"text-align: right;\">        3</td><td style=\"text-align: right;\">  20</td><td style=\"text-align: right;\">         52</td><td style=\"text-align: right;\">      1009</td><td style=\"text-align: right;\">  651</td><td style=\"text-align: right;\">     6</td><td style=\"text-align: right;\">     0</td><td style=\"text-align: right;\">          5</td><td style=\"text-align: right;\">        1</td><td style=\"text-align: right;\">             0</td><td style=\"text-align: right;\">     1</td></tr>\n",
       "</tbody>\n",
       "</table>"
      ]
     },
     "metadata": {},
     "output_type": "display_data"
    },
    {
     "data": {
      "text/plain": []
     },
     "execution_count": 18,
     "metadata": {},
     "output_type": "execute_result"
    }
   ],
   "source": [
    "df_test.head()"
   ]
  },
  {
   "cell_type": "markdown",
   "id": "9bec869e",
   "metadata": {},
   "source": [
    "### Shape of both the dataset"
   ]
  },
  {
   "cell_type": "code",
   "execution_count": 19,
   "id": "8633992b",
   "metadata": {},
   "outputs": [
    {
     "data": {
      "text/plain": [
       "(2000, 21)"
      ]
     },
     "execution_count": 19,
     "metadata": {},
     "output_type": "execute_result"
    }
   ],
   "source": [
    "df_train.shape\n"
   ]
  },
  {
   "cell_type": "code",
   "execution_count": 20,
   "id": "f8878e91",
   "metadata": {},
   "outputs": [
    {
     "data": {
      "text/plain": [
       "(1000, 21)"
      ]
     },
     "execution_count": 20,
     "metadata": {},
     "output_type": "execute_result"
    }
   ],
   "source": [
    "df_test.shape"
   ]
  },
  {
   "cell_type": "markdown",
   "id": "563f500f",
   "metadata": {},
   "source": [
    "## Train the model using H2O's AutoML "
   ]
  },
  {
   "cell_type": "code",
   "execution_count": 21,
   "id": "81cfdcd0",
   "metadata": {},
   "outputs": [
    {
     "name": "stdout",
     "output_type": "stream",
     "text": [
      "['battery_power', 'blue', 'clock_speed', 'dual_sim', 'fc', 'four_g', 'int_memory', 'm_dep', 'mobile_wt', 'n_cores', 'pc', 'px_height', 'px_width', 'ram', 'sc_h', 'sc_w', 'talk_time', 'three_g', 'touch_screen', 'wifi', 'price_range']\n"
     ]
    }
   ],
   "source": [
    "X = df_train.columns\n",
    "print(X)"
   ]
  },
  {
   "cell_type": "code",
   "execution_count": 22,
   "id": "8e7fb06e",
   "metadata": {},
   "outputs": [],
   "source": [
    "y = 'price_range'\n",
    "X.remove(y)\n",
    "\n",
    "\n"
   ]
  },
  {
   "cell_type": "code",
   "execution_count": 23,
   "id": "07fa88f8",
   "metadata": {},
   "outputs": [],
   "source": [
    "# Set up AutoML\n",
    "aml = H2OAutoML(max_runtime_secs=run_time, seed=1)"
   ]
  },
  {
   "cell_type": "code",
   "execution_count": 24,
   "id": "ff2993bd",
   "metadata": {},
   "outputs": [
    {
     "name": "stdout",
     "output_type": "stream",
     "text": [
      "AutoML progress: |\n",
      "05:40:16.323: AutoML: XGBoost is not available; skipping it.\n",
      "05:40:16.341: Step 'best_of_family_xgboost' not defined in provider 'StackedEnsemble': skipping it.\n",
      "05:40:16.341: Step 'all_xgboost' not defined in provider 'StackedEnsemble': skipping it.\n",
      "\n",
      "███████████████████████████████████████████████████████████████| (done) 100%\n",
      "Model Details\n",
      "=============\n",
      "H2OStackedEnsembleEstimator :  Stacked Ensemble\n",
      "Model Key:  StackedEnsemble_AllModels_3_AutoML_1_20220202_54016\n",
      "\n",
      "No model summary for this model\n",
      "\n",
      "ModelMetricsRegressionGLM: stackedensemble\n",
      "** Reported on train data. **\n",
      "\n",
      "MSE: 0.01105149865327668\n",
      "RMSE: 0.1051261083331666\n",
      "MAE: 0.07900166638966001\n",
      "RMSLE: 0.05229054957794302\n",
      "R^2: 0.9911588010773786\n",
      "Mean Residual Deviance: 0.01105149865327668\n",
      "Null degrees of freedom: 1999\n",
      "Residual degrees of freedom: 1988\n",
      "Null deviance: 2500.0\n",
      "Residual deviance: 22.10299730655336\n",
      "AIC: -3308.624338148622\n",
      "\n",
      "ModelMetricsRegressionGLM: stackedensemble\n",
      "** Reported on cross-validation data. **\n",
      "\n",
      "MSE: 0.0643617916964407\n",
      "RMSE: 0.25369625873560037\n",
      "MAE: 0.17825242972028957\n",
      "RMSLE: 0.12343414658379388\n",
      "R^2: 0.9485105666428475\n",
      "Mean Residual Deviance: 0.0643617916964407\n",
      "Null degrees of freedom: 1999\n",
      "Residual degrees of freedom: 1991\n",
      "Null deviance: 2506.6981059693167\n",
      "Residual deviance: 128.7235833928814\n",
      "AIC: 209.2838956566023\n"
     ]
    },
    {
     "data": {
      "text/plain": []
     },
     "execution_count": 24,
     "metadata": {},
     "output_type": "execute_result"
    }
   ],
   "source": [
    "aml.train(x=X,y=y,training_frame=df_train)  "
   ]
  },
  {
   "cell_type": "code",
   "execution_count": 25,
   "id": "28bed230",
   "metadata": {},
   "outputs": [
    {
     "data": {
      "text/html": [
       "<table>\n",
       "<thead>\n",
       "<tr><th>model_id                                              </th><th style=\"text-align: right;\">  mean_residual_deviance</th><th style=\"text-align: right;\">    rmse</th><th style=\"text-align: right;\">      mse</th><th style=\"text-align: right;\">     mae</th><th style=\"text-align: right;\">   rmsle</th></tr>\n",
       "</thead>\n",
       "<tbody>\n",
       "<tr><td>StackedEnsemble_AllModels_3_AutoML_1_20220202_54016   </td><td style=\"text-align: right;\">               0.0643618</td><td style=\"text-align: right;\">0.253696</td><td style=\"text-align: right;\">0.0643618</td><td style=\"text-align: right;\">0.178252</td><td style=\"text-align: right;\">0.123434</td></tr>\n",
       "<tr><td>StackedEnsemble_BestOfFamily_4_AutoML_1_20220202_54016</td><td style=\"text-align: right;\">               0.0648818</td><td style=\"text-align: right;\">0.254719</td><td style=\"text-align: right;\">0.0648818</td><td style=\"text-align: right;\">0.180554</td><td style=\"text-align: right;\">0.12461 </td></tr>\n",
       "<tr><td>GBM_grid_1_AutoML_1_20220202_54016_model_12           </td><td style=\"text-align: right;\">               0.0673212</td><td style=\"text-align: right;\">0.259463</td><td style=\"text-align: right;\">0.0673212</td><td style=\"text-align: right;\">0.165366</td><td style=\"text-align: right;\">0.126066</td></tr>\n",
       "<tr><td>StackedEnsemble_AllModels_2_AutoML_1_20220202_54016   </td><td style=\"text-align: right;\">               0.0681061</td><td style=\"text-align: right;\">0.260971</td><td style=\"text-align: right;\">0.0681061</td><td style=\"text-align: right;\">0.195634</td><td style=\"text-align: right;\">0.128704</td></tr>\n",
       "<tr><td>GBM_grid_1_AutoML_1_20220202_54016_model_44           </td><td style=\"text-align: right;\">               0.0681706</td><td style=\"text-align: right;\">0.261095</td><td style=\"text-align: right;\">0.0681706</td><td style=\"text-align: right;\">0.178366</td><td style=\"text-align: right;\">0.125727</td></tr>\n",
       "<tr><td>StackedEnsemble_BestOfFamily_3_AutoML_1_20220202_54016</td><td style=\"text-align: right;\">               0.0688163</td><td style=\"text-align: right;\">0.262329</td><td style=\"text-align: right;\">0.0688163</td><td style=\"text-align: right;\">0.199122</td><td style=\"text-align: right;\">0.130157</td></tr>\n",
       "<tr><td>GBM_grid_1_AutoML_1_20220202_54016_model_43           </td><td style=\"text-align: right;\">               0.0689926</td><td style=\"text-align: right;\">0.262664</td><td style=\"text-align: right;\">0.0689926</td><td style=\"text-align: right;\">0.187039</td><td style=\"text-align: right;\">0.128774</td></tr>\n",
       "<tr><td>GBM_grid_1_AutoML_1_20220202_54016_model_5            </td><td style=\"text-align: right;\">               0.0692247</td><td style=\"text-align: right;\">0.263106</td><td style=\"text-align: right;\">0.0692247</td><td style=\"text-align: right;\">0.179697</td><td style=\"text-align: right;\">0.128765</td></tr>\n",
       "<tr><td>StackedEnsemble_BestOfFamily_2_AutoML_1_20220202_54016</td><td style=\"text-align: right;\">               0.069904 </td><td style=\"text-align: right;\">0.264394</td><td style=\"text-align: right;\">0.069904 </td><td style=\"text-align: right;\">0.200107</td><td style=\"text-align: right;\">0.132835</td></tr>\n",
       "<tr><td>StackedEnsemble_AllModels_1_AutoML_1_20220202_54016   </td><td style=\"text-align: right;\">               0.0700563</td><td style=\"text-align: right;\">0.264681</td><td style=\"text-align: right;\">0.0700563</td><td style=\"text-align: right;\">0.200175</td><td style=\"text-align: right;\">0.13183 </td></tr>\n",
       "</tbody>\n",
       "</table>"
      ]
     },
     "metadata": {},
     "output_type": "display_data"
    },
    {
     "name": "stdout",
     "output_type": "stream",
     "text": [
      "\n"
     ]
    }
   ],
   "source": [
    "print(aml.leaderboard)"
   ]
  },
  {
   "cell_type": "code",
   "execution_count": null,
   "id": "d3656d0d",
   "metadata": {},
   "outputs": [],
   "source": []
  }
 ],
 "metadata": {
  "kernelspec": {
   "display_name": "Python 3 (ipykernel)",
   "language": "python",
   "name": "python3"
  },
  "language_info": {
   "codemirror_mode": {
    "name": "ipython",
    "version": 3
   },
   "file_extension": ".py",
   "mimetype": "text/x-python",
   "name": "python",
   "nbconvert_exporter": "python",
   "pygments_lexer": "ipython3",
   "version": "3.9.7"
  }
 },
 "nbformat": 4,
 "nbformat_minor": 5
}
